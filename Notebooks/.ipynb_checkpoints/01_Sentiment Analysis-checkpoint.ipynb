{
 "cells": [
  {
   "cell_type": "markdown",
   "id": "310e48f0",
   "metadata": {},
   "source": [
    "# Import the main libiraries"
   ]
  },
  {
   "cell_type": "code",
   "execution_count": 1,
   "id": "c34ffb86",
   "metadata": {},
   "outputs": [
    {
     "data": {
      "text/html": [
       "        <script type=\"text/javascript\">\n",
       "        window.PlotlyConfig = {MathJaxConfig: 'local'};\n",
       "        if (window.MathJax && window.MathJax.Hub && window.MathJax.Hub.Config) {window.MathJax.Hub.Config({SVG: {font: \"STIX-Web\"}});}\n",
       "        if (typeof require !== 'undefined') {\n",
       "        require.undef(\"plotly\");\n",
       "        requirejs.config({\n",
       "            paths: {\n",
       "                'plotly': ['https://cdn.plot.ly/plotly-2.12.1.min']\n",
       "            }\n",
       "        });\n",
       "        require(['plotly'], function(Plotly) {\n",
       "            window._Plotly = Plotly;\n",
       "        });\n",
       "        }\n",
       "        </script>\n",
       "        "
      ]
     },
     "metadata": {},
     "output_type": "display_data"
    },
    {
     "data": {
      "text/html": [
       "        <script type=\"text/javascript\">\n",
       "        window.PlotlyConfig = {MathJaxConfig: 'local'};\n",
       "        if (window.MathJax && window.MathJax.Hub && window.MathJax.Hub.Config) {window.MathJax.Hub.Config({SVG: {font: \"STIX-Web\"}});}\n",
       "        if (typeof require !== 'undefined') {\n",
       "        require.undef(\"plotly\");\n",
       "        requirejs.config({\n",
       "            paths: {\n",
       "                'plotly': ['https://cdn.plot.ly/plotly-2.12.1.min']\n",
       "            }\n",
       "        });\n",
       "        require(['plotly'], function(Plotly) {\n",
       "            window._Plotly = Plotly;\n",
       "        });\n",
       "        }\n",
       "        </script>\n",
       "        "
      ]
     },
     "metadata": {},
     "output_type": "display_data"
    }
   ],
   "source": [
    "import textblob\n",
    "# ^^^ pyforest auto-imports - don't write above this line\n",
    "import numpy as np\n",
    "import pandas as pd\n",
    "import nltk\n",
    "from nltk.sentiment.vader import SentimentIntensityAnalyzer\n",
    "import re\n",
    "from textblob import TextBlob\n",
    "from wordcloud import WordCloud, STOPWORDS, ImageColorGenerator\n",
    "import seaborn as sns \n",
    "import matplotlib.pyplot as plt\n",
    "import cufflinks as cf\n",
    "%matplotlib inline\n",
    "from plotly.offline import init_notebook_mode,iplot\n",
    "init_notebook_mode(connected=True)\n",
    "cf.go_offline();\n",
    "import plotly.graph_objs as go\n",
    "from plotly.subplots import make_subplots\n",
    "import warnings\n",
    "warnings.filterwarnings(\"ignore\")\n",
    "warnings.warn(\"this will not show\")\n",
    "\n",
    "pd.set_option(\"display.max_columns\",None)"
   ]
  },
  {
   "cell_type": "markdown",
   "id": "071e2b7e",
   "metadata": {},
   "source": [
    "# Load the DataSet"
   ]
  },
  {
   "cell_type": "code",
   "execution_count": 2,
   "id": "e891b38a",
   "metadata": {},
   "outputs": [],
   "source": [
    "data = pd.read_csv(\"../data/Reviews.csv\")"
   ]
  },
  {
   "cell_type": "code",
   "execution_count": 3,
   "id": "af7c6e3a",
   "metadata": {},
   "outputs": [],
   "source": [
    "df=data.copy()"
   ]
  },
  {
   "cell_type": "markdown",
   "id": "01559097",
   "metadata": {},
   "source": [
    "# inspect the Data"
   ]
  },
  {
   "cell_type": "code",
   "execution_count": 4,
   "id": "05357294",
   "metadata": {},
   "outputs": [
    {
     "data": {
      "text/html": [
       "<div>\n",
       "<style scoped>\n",
       "    .dataframe tbody tr th:only-of-type {\n",
       "        vertical-align: middle;\n",
       "    }\n",
       "\n",
       "    .dataframe tbody tr th {\n",
       "        vertical-align: top;\n",
       "    }\n",
       "\n",
       "    .dataframe thead th {\n",
       "        text-align: right;\n",
       "    }\n",
       "</style>\n",
       "<table border=\"1\" class=\"dataframe\">\n",
       "  <thead>\n",
       "    <tr style=\"text-align: right;\">\n",
       "      <th></th>\n",
       "      <th>Unnamed: 0</th>\n",
       "      <th>Customer Name</th>\n",
       "      <th>Customer review</th>\n",
       "    </tr>\n",
       "  </thead>\n",
       "  <tbody>\n",
       "    <tr>\n",
       "      <th>0</th>\n",
       "      <td>0</td>\n",
       "      <td>Lizz</td>\n",
       "      <td>Appearance: Looks great and is lightweight. Th...</td>\n",
       "    </tr>\n",
       "    <tr>\n",
       "      <th>1</th>\n",
       "      <td>1</td>\n",
       "      <td>Kailua Sam</td>\n",
       "      <td>I had an identical watch from \"Yamay\" which no...</td>\n",
       "    </tr>\n",
       "    <tr>\n",
       "      <th>2</th>\n",
       "      <td>2</td>\n",
       "      <td>mathman419</td>\n",
       "      <td>I purchased originally in July 2022, and I was...</td>\n",
       "    </tr>\n",
       "    <tr>\n",
       "      <th>3</th>\n",
       "      <td>3</td>\n",
       "      <td>AZN8TV</td>\n",
       "      <td>I ordered this as a step tracker. What I got w...</td>\n",
       "    </tr>\n",
       "    <tr>\n",
       "      <th>4</th>\n",
       "      <td>4</td>\n",
       "      <td>Jeff Brown Jr.</td>\n",
       "      <td>I've had this model/brand of watch before. Aft...</td>\n",
       "    </tr>\n",
       "  </tbody>\n",
       "</table>\n",
       "</div>"
      ],
      "text/plain": [
       "   Unnamed: 0   Customer Name  \\\n",
       "0           0            Lizz   \n",
       "1           1      Kailua Sam   \n",
       "2           2      mathman419   \n",
       "3           3          AZN8TV   \n",
       "4           4  Jeff Brown Jr.   \n",
       "\n",
       "                                     Customer review  \n",
       "0  Appearance: Looks great and is lightweight. Th...  \n",
       "1  I had an identical watch from \"Yamay\" which no...  \n",
       "2  I purchased originally in July 2022, and I was...  \n",
       "3  I ordered this as a step tracker. What I got w...  \n",
       "4  I've had this model/brand of watch before. Aft...  "
      ]
     },
     "execution_count": 4,
     "metadata": {},
     "output_type": "execute_result"
    }
   ],
   "source": [
    "df.head()"
   ]
  },
  {
   "cell_type": "markdown",
   "id": "5f587968",
   "metadata": {},
   "source": [
    "remove unnecessary columns"
   ]
  },
  {
   "cell_type": "code",
   "execution_count": 5,
   "id": "3d8a17ed",
   "metadata": {},
   "outputs": [],
   "source": [
    "# remove \"Unnamed: 0\" column from data\n",
    "df = df.drop(\"Unnamed: 0\",axis=1)"
   ]
  },
  {
   "cell_type": "markdown",
   "id": "57808cc1",
   "metadata": {},
   "source": [
    "# summary"
   ]
  },
  {
   "cell_type": "code",
   "execution_count": 6,
   "id": "55a096d9",
   "metadata": {},
   "outputs": [
    {
     "data": {
      "text/html": [
       "<div>\n",
       "<style scoped>\n",
       "    .dataframe tbody tr th:only-of-type {\n",
       "        vertical-align: middle;\n",
       "    }\n",
       "\n",
       "    .dataframe tbody tr th {\n",
       "        vertical-align: top;\n",
       "    }\n",
       "\n",
       "    .dataframe thead th {\n",
       "        text-align: right;\n",
       "    }\n",
       "</style>\n",
       "<table border=\"1\" class=\"dataframe\">\n",
       "  <thead>\n",
       "    <tr style=\"text-align: right;\">\n",
       "      <th></th>\n",
       "      <th>column</th>\n",
       "      <th>dtypes</th>\n",
       "      <th>nunique</th>\n",
       "      <th>sum_null</th>\n",
       "    </tr>\n",
       "  </thead>\n",
       "  <tbody>\n",
       "    <tr>\n",
       "      <th>0</th>\n",
       "      <td>Customer Name</td>\n",
       "      <td>object</td>\n",
       "      <td>1291</td>\n",
       "      <td>1</td>\n",
       "    </tr>\n",
       "    <tr>\n",
       "      <th>1</th>\n",
       "      <td>Customer review</td>\n",
       "      <td>object</td>\n",
       "      <td>1440</td>\n",
       "      <td>7</td>\n",
       "    </tr>\n",
       "  </tbody>\n",
       "</table>\n",
       "</div>"
      ],
      "text/plain": [
       "            column  dtypes  nunique  sum_null\n",
       "0    Customer Name  object     1291         1\n",
       "1  Customer review  object     1440         7"
      ]
     },
     "execution_count": 6,
     "metadata": {},
     "output_type": "execute_result"
    }
   ],
   "source": [
    "# Summary to all columns \n",
    "def check(df):\n",
    "    l=[]\n",
    "    columns=df.columns\n",
    "    for col in columns:\n",
    "        dtypes=df[col].dtypes\n",
    "        nunique=df[col].nunique()\n",
    "        sum_null=df[col].isnull().sum()\n",
    "        l.append([col,dtypes,nunique,sum_null])\n",
    "    df_check=pd.DataFrame(l)\n",
    "    df_check.columns=['column','dtypes','nunique','sum_null']\n",
    "    return df_check \n",
    "check(df)"
   ]
  },
  {
   "cell_type": "markdown",
   "id": "291e7def",
   "metadata": {},
   "source": [
    "# check the duplicates row"
   ]
  },
  {
   "cell_type": "code",
   "execution_count": 7,
   "id": "6f116187",
   "metadata": {},
   "outputs": [
    {
     "data": {
      "text/plain": [
       "11"
      ]
     },
     "execution_count": 7,
     "metadata": {},
     "output_type": "execute_result"
    }
   ],
   "source": [
    "df.duplicated().sum()"
   ]
  },
  {
   "cell_type": "markdown",
   "id": "4a61e48d",
   "metadata": {},
   "source": [
    "> their is 11 duplicate row we should remove them"
   ]
  },
  {
   "cell_type": "code",
   "execution_count": 10,
   "id": "f257f8cc",
   "metadata": {},
   "outputs": [],
   "source": [
    "df = df.drop_duplicates()"
   ]
  },
  {
   "cell_type": "markdown",
   "id": "5fa8d7d2",
   "metadata": {},
   "source": [
    "# check the null in rows"
   ]
  },
  {
   "cell_type": "code",
   "execution_count": 11,
   "id": "dd5c1ebd",
   "metadata": {},
   "outputs": [
    {
     "data": {
      "text/plain": [
       "Customer Name      1\n",
       "Customer review    7\n",
       "dtype: int64"
      ]
     },
     "execution_count": 11,
     "metadata": {},
     "output_type": "execute_result"
    }
   ],
   "source": [
    "df.isnull().sum()"
   ]
  },
  {
   "cell_type": "markdown",
   "id": "26c6bda2",
   "metadata": {},
   "source": [
    "> their is 7 nulls in reviews and 1 null in names we may drop them"
   ]
  },
  {
   "cell_type": "code",
   "execution_count": 15,
   "id": "a9ffe367",
   "metadata": {},
   "outputs": [],
   "source": [
    "# drop nulls\n",
    "df = df.dropna()"
   ]
  },
  {
   "cell_type": "markdown",
   "id": "0276c6bd",
   "metadata": {},
   "source": [
    "# Some text cleaning"
   ]
  },
  {
   "cell_type": "code",
   "execution_count": 109,
   "id": "9a8b9da5",
   "metadata": {},
   "outputs": [],
   "source": [
    "# Remove any punctuation and any numbers from text and convert all words to lower case\n",
    "rt = lambda x: re.sub(\"[^a-z A-Z]\",'',x)\n",
    "df[\"Customer review\"] = df[\"Customer review\"].map(rt)\n",
    "df[\"Customer review\"] = df[\"Customer review\"].str.lower()"
   ]
  },
  {
   "cell_type": "code",
   "execution_count": 110,
   "id": "94149d5a",
   "metadata": {},
   "outputs": [
    {
     "data": {
      "text/html": [
       "<div>\n",
       "<style scoped>\n",
       "    .dataframe tbody tr th:only-of-type {\n",
       "        vertical-align: middle;\n",
       "    }\n",
       "\n",
       "    .dataframe tbody tr th {\n",
       "        vertical-align: top;\n",
       "    }\n",
       "\n",
       "    .dataframe thead th {\n",
       "        text-align: right;\n",
       "    }\n",
       "</style>\n",
       "<table border=\"1\" class=\"dataframe\">\n",
       "  <thead>\n",
       "    <tr style=\"text-align: right;\">\n",
       "      <th></th>\n",
       "      <th>Customer Name</th>\n",
       "      <th>Customer review</th>\n",
       "    </tr>\n",
       "  </thead>\n",
       "  <tbody>\n",
       "    <tr>\n",
       "      <th>0</th>\n",
       "      <td>Lizz</td>\n",
       "      <td>appearance looks great and is lightweight the ...</td>\n",
       "    </tr>\n",
       "    <tr>\n",
       "      <th>1</th>\n",
       "      <td>Kailua Sam</td>\n",
       "      <td>i had an identical watch from yamay which no l...</td>\n",
       "    </tr>\n",
       "  </tbody>\n",
       "</table>\n",
       "</div>"
      ],
      "text/plain": [
       "  Customer Name                                    Customer review\n",
       "0          Lizz  appearance looks great and is lightweight the ...\n",
       "1    Kailua Sam  i had an identical watch from yamay which no l..."
      ]
     },
     "execution_count": 110,
     "metadata": {},
     "output_type": "execute_result"
    }
   ],
   "source": [
    "df.head(2)"
   ]
  },
  {
   "cell_type": "code",
   "execution_count": 118,
   "id": "53ca07d3",
   "metadata": {},
   "outputs": [],
   "source": [
    "from vaderSentiment.vaderSentiment import SentimentIntensityAnalyzer"
   ]
  },
  {
   "cell_type": "code",
   "execution_count": 126,
   "id": "0ab6113d",
   "metadata": {},
   "outputs": [],
   "source": [
    "df[[\"polarity\",\"subjectivity\"]]= df[\"Customer review\"].apply(lambda Text:pd.Series(TextBlob(Text).sentiment))\n",
    "\n",
    "for index ,row in df[\"Customer review\"].iteritems():\n",
    "    score = SentimentIntensityAnalyzer().polarity_scores(row)\n",
    "    \n",
    "    neg = score[\"neg\"]\n",
    "    neu = score[\"neu\"]\n",
    "    pos = score[\"pos\"]\n",
    "    if neg>pos:\n",
    "        df.loc[index,\"sentiment\"] = \"negative\"\n",
    "    elif neg<pos:\n",
    "        df.loc[index,\"sentiment\"] = \"positive\"\n",
    "    else:\n",
    "        df.loc[index,\"sentiment\"] = \"neutral\""
   ]
  },
  {
   "cell_type": "code",
   "execution_count": 128,
   "id": "555e433c",
   "metadata": {},
   "outputs": [
    {
     "data": {
      "text/html": [
       "<div>\n",
       "<style scoped>\n",
       "    .dataframe tbody tr th:only-of-type {\n",
       "        vertical-align: middle;\n",
       "    }\n",
       "\n",
       "    .dataframe tbody tr th {\n",
       "        vertical-align: top;\n",
       "    }\n",
       "\n",
       "    .dataframe thead th {\n",
       "        text-align: right;\n",
       "    }\n",
       "</style>\n",
       "<table border=\"1\" class=\"dataframe\">\n",
       "  <thead>\n",
       "    <tr style=\"text-align: right;\">\n",
       "      <th></th>\n",
       "      <th>Customer Name</th>\n",
       "      <th>Customer review</th>\n",
       "      <th>polarity</th>\n",
       "      <th>subjectivity</th>\n",
       "      <th>sentiment</th>\n",
       "    </tr>\n",
       "  </thead>\n",
       "  <tbody>\n",
       "    <tr>\n",
       "      <th>0</th>\n",
       "      <td>Lizz</td>\n",
       "      <td>appearance looks great and is lightweight the ...</td>\n",
       "      <td>0.275250</td>\n",
       "      <td>0.545284</td>\n",
       "      <td>positive</td>\n",
       "    </tr>\n",
       "    <tr>\n",
       "      <th>1</th>\n",
       "      <td>Kailua Sam</td>\n",
       "      <td>i had an identical watch from yamay which no l...</td>\n",
       "      <td>0.012249</td>\n",
       "      <td>0.435925</td>\n",
       "      <td>positive</td>\n",
       "    </tr>\n",
       "    <tr>\n",
       "      <th>2</th>\n",
       "      <td>mathman419</td>\n",
       "      <td>i purchased originally in july  and i was very...</td>\n",
       "      <td>0.248136</td>\n",
       "      <td>0.615955</td>\n",
       "      <td>positive</td>\n",
       "    </tr>\n",
       "    <tr>\n",
       "      <th>3</th>\n",
       "      <td>AZN8TV</td>\n",
       "      <td>i ordered this as a step tracker what i got wa...</td>\n",
       "      <td>0.211806</td>\n",
       "      <td>0.653483</td>\n",
       "      <td>positive</td>\n",
       "    </tr>\n",
       "    <tr>\n",
       "      <th>4</th>\n",
       "      <td>Jeff Brown Jr.</td>\n",
       "      <td>ive had this modelbrand of watch before after ...</td>\n",
       "      <td>0.088961</td>\n",
       "      <td>0.553247</td>\n",
       "      <td>positive</td>\n",
       "    </tr>\n",
       "  </tbody>\n",
       "</table>\n",
       "</div>"
      ],
      "text/plain": [
       "    Customer Name                                    Customer review  \\\n",
       "0            Lizz  appearance looks great and is lightweight the ...   \n",
       "1      Kailua Sam  i had an identical watch from yamay which no l...   \n",
       "2      mathman419  i purchased originally in july  and i was very...   \n",
       "3          AZN8TV  i ordered this as a step tracker what i got wa...   \n",
       "4  Jeff Brown Jr.  ive had this modelbrand of watch before after ...   \n",
       "\n",
       "   polarity  subjectivity sentiment  \n",
       "0  0.275250      0.545284  positive  \n",
       "1  0.012249      0.435925  positive  \n",
       "2  0.248136      0.615955  positive  \n",
       "3  0.211806      0.653483  positive  \n",
       "4  0.088961      0.553247  positive  "
      ]
     },
     "execution_count": 128,
     "metadata": {},
     "output_type": "execute_result"
    }
   ],
   "source": [
    "df.head()"
   ]
  },
  {
   "cell_type": "markdown",
   "id": "6c78e55d",
   "metadata": {},
   "source": [
    "# Visualize the number of positive,negative and neutral reviews"
   ]
  },
  {
   "cell_type": "code",
   "execution_count": 161,
   "id": "962e42a1",
   "metadata": {},
   "outputs": [
    {
     "data": {
      "image/png": "[encoded data removed]",
      "text/plain": [
       "<Figure size 640x480 with 1 Axes>"
      ]
     },
     "metadata": {},
     "output_type": "display_data"
    }
   ],
   "source": [
    "sns.countplot(data=df,x=\"sentiment\");"
   ]
  },
  {
   "cell_type": "code",
   "execution_count": null,
   "id": "bea88540",
   "metadata": {},
   "outputs": [],
   "source": []
  }
 ],
 "metadata": {
  "kernelspec": {
   "display_name": "Python 3 (ipykernel)",
   "language": "python",
   "name": "python3"
  },
  "language_info": {
   "codemirror_mode": {
    "name": "ipython",
    "version": 3
   },
   "file_extension": ".py",
   "mimetype": "text/x-python",
   "name": "python",
   "nbconvert_exporter": "python",
   "pygments_lexer": "ipython3",
   "version": "3.9.13"
  }
 },
 "nbformat": 4,
 "nbformat_minor": 5
}
